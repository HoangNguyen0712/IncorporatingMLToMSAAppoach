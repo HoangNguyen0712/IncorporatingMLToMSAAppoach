{
 "cells": [
  {
   "cell_type": "code",
   "execution_count": 1,
   "metadata": {
    "colab": {},
    "colab_type": "code",
    "id": "ji_3A1iJ46NQ"
   },
   "outputs": [],
   "source": [
    "import numpy as np\n",
    "from pickle import dump\n",
    "from pickle import load"
   ]
  },
  {
   "cell_type": "markdown",
   "metadata": {},
   "source": [
    "# Load Data For Input Set 1"
   ]
  },
  {
   "cell_type": "code",
   "execution_count": 2,
   "metadata": {
    "colab": {
     "base_uri": "https://localhost:8080/",
     "height": 34
    },
    "colab_type": "code",
    "executionInfo": {
     "elapsed": 672,
     "status": "ok",
     "timestamp": 1587615447670,
     "user": {
      "displayName": "Jis K",
      "photoUrl": "https://lh3.googleusercontent.com/a-/AOh14GirzLeViKAMLotDvi1P6JNzpwmgeXC5uOqBxVcE=s64",
      "userId": "09356871360138731238"
     },
     "user_tz": -540
    },
    "id": "_-iO4PQg5tSn",
    "outputId": "7cea4ae6-92c5-4c5b-db49-602d89112726"
   },
   "outputs": [],
   "source": [
    "q1 = np.loadtxt('DataForML_24S_InputSet1.txt', skiprows=0)\n",
    "x_total_IP1=q1"
   ]
  },
  {
   "cell_type": "code",
   "execution_count": 3,
   "metadata": {},
   "outputs": [
    {
     "name": "stdout",
     "output_type": "stream",
     "text": [
      "(1000, 13)\n"
     ]
    }
   ],
   "source": [
    "print(x_total_IP1.shape)"
   ]
  },
  {
   "cell_type": "markdown",
   "metadata": {},
   "source": [
    "# Load Data For Input Set 2"
   ]
  },
  {
   "cell_type": "code",
   "execution_count": 4,
   "metadata": {},
   "outputs": [],
   "source": [
    "q1 = np.loadtxt('DataForML_24S_InputSet2.txt', skiprows=0)\n",
    "x_total_IP2=q1"
   ]
  },
  {
   "cell_type": "code",
   "execution_count": 5,
   "metadata": {},
   "outputs": [
    {
     "name": "stdout",
     "output_type": "stream",
     "text": [
      "(1000, 14)\n"
     ]
    }
   ],
   "source": [
    "print(x_total_IP2.shape)"
   ]
  },
  {
   "cell_type": "markdown",
   "metadata": {},
   "source": [
    "# Load The Predictive Models"
   ]
  },
  {
   "cell_type": "code",
   "execution_count": 6,
   "metadata": {},
   "outputs": [],
   "source": [
    "filename1 = 'BestModel_RF_IP1.sav'\n",
    "loaded_model_IP1 = load(open(filename1, 'rb'))\n",
    "filename1 = 'BestModel_RF_IP2.sav'\n",
    "loaded_model_IP2 = load(open(filename1, 'rb'))"
   ]
  },
  {
   "cell_type": "markdown",
   "metadata": {},
   "source": [
    "# Predict the Result for Input Set 1"
   ]
  },
  {
   "cell_type": "code",
   "execution_count": 7,
   "metadata": {},
   "outputs": [],
   "source": [
    "y_pred = loaded_model_IP1.predict(x_total_IP1)\n",
    "np.savetxt(\"y_pred_RF_IP1.txt\", y_pred, delimiter=' ', fmt='%.6f')"
   ]
  },
  {
   "cell_type": "markdown",
   "metadata": {},
   "source": [
    "# Predict the Result for Input Set 2"
   ]
  },
  {
   "cell_type": "code",
   "execution_count": 8,
   "metadata": {},
   "outputs": [],
   "source": [
    "y_pred = loaded_model_IP2.predict(x_total_IP2)\n",
    "np.savetxt((\"y_pred_RF_IP2.txt\"), y_pred, delimiter=' ', fmt='%.6f')"
   ]
  }
 ],
 "metadata": {
  "colab": {
   "collapsed_sections": [],
   "name": "200422_Hoang.ipynb",
   "provenance": []
  },
  "kernelspec": {
   "display_name": "Python 3 (ipykernel)",
   "language": "python",
   "name": "python3"
  },
  "language_info": {
   "codemirror_mode": {
    "name": "ipython",
    "version": 3
   },
   "file_extension": ".py",
   "mimetype": "text/x-python",
   "name": "python",
   "nbconvert_exporter": "python",
   "pygments_lexer": "ipython3",
   "version": "3.10.9"
  }
 },
 "nbformat": 4,
 "nbformat_minor": 1
}
